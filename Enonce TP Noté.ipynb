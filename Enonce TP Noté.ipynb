{
 "cells": [
  {
   "cell_type": "markdown",
   "metadata": {},
   "source": [
    "# TP Noté X3BG010\n",
    "\n",
    "Les notes de cours, TD et TP sont autorisées. Durée de l'épreuve : 1h30\n",
    "\n",
    "A l'issue de l'épreuve, vous téléchargerez votre notebook au format ipynb **et** au format html et vous déposerez ces deux fichiers en ligne sur Madoc.\n",
    "\n",
    "Pensez à copier-coller régulièrement votre travail dans un éditeur de texte afin de ne rien perdre de celui-ci.\n",
    "\n",
    "**ça n'est pas parce que vous ne réussissez pas à répondre à une question que vous ne parviendrez pas à répondre à la suivante !**"
   ]
  },
  {
   "cell_type": "markdown",
   "metadata": {},
   "source": [
    "## Exercice 1. Un réseau métabolique\n",
    "\n",
    "1. Charger le modèle Acinetobacter_radioresistens_NIPH_2130.xml\n",
    "2. Afficher le nombre de réactions et de métabolites du modèle\n",
    "3. Calculer pour ce modèle un FBA et afficher la valeur optimale de croissance de biomasse (= valeur de l'objectif).\n",
    "4. Calculer un FVA à 90% et donner les nombres de réactions bloquées, essentielles et alternatives."
   ]
  },
  {
   "cell_type": "code",
   "execution_count": null,
   "metadata": {},
   "outputs": [],
   "source": []
  },
  {
   "cell_type": "code",
   "execution_count": null,
   "metadata": {},
   "outputs": [],
   "source": [
    "def transformeSRD(srd):\n",
    "    growth = srd.get('growth')\n",
    "    keys = [list(r)[0] for r in growth.keys()]\n",
    "    values = growth.values\n",
    "    res = {}\n",
    "    for i in range(len(keys)):\n",
    "        res[keys[i]]=values[i]\n",
    "    return res"
   ]
  },
  {
   "cell_type": "markdown",
   "metadata": {},
   "source": [
    "## Exercice 2. Deux réseaux métaboliques\n",
    "\n",
    "1. Charger les deux modèles Escherichia_coli_O157_H7_str_Sakai.xml et Escherichia_coli_SE11.xml\n",
    "2. Afin de déterminer si un modèle (variable model) possède une réaction d'un identifiant donné, on utilise l'instruction model.reactions.has_id(*identifiant*). Compter le nombre de réactions communes aux deux souches d'e. coli.\n",
    "3. Effectuer une analyse de type single_reaction_deletion pour chacun des réseaux. Stocker les résultats dans les variables srd1 et srd2, puis utiliser la fonction transformeSRD(srd) qui permet de transformer le résultats en objets Python plus facilement utilisables (un dictionnaire de correspondance entre identifiants de réaction et valeur d'objectif avec délétion de la réaction). Compter le nombre de réactions qui ont un effet sur le premier modèle, puis sur les deux modèles en même temps."
   ]
  },
  {
   "cell_type": "code",
   "execution_count": null,
   "metadata": {},
   "outputs": [],
   "source": []
  },
  {
   "cell_type": "markdown",
   "metadata": {},
   "source": [
    "## Exercice 3. Deux réseaux métaboliques (bis)\n",
    "\n",
    "1. Charger les deux modèles Clostridium_symbiosum_ATCC_14940.xml et Escherichia_coli_str_K_12_substr_MG1655.xml\n",
    "2. Déterminer les antimétabolites de Escherichia_coli qui ne perturbent pas Clostridium.\n",
    "On va maintenant maintenant travailler en utilisant le modèle d'e. coli obtenu par\n",
    "\n",
    "*import cobra.test*\n",
    "\n",
    "*modelcoli = cobra.test.create_test_model('ecoli')*\n",
    "3. Etudier, pour e. coli, l'effet de l'entrée de glucose sur la sortie de CO2. (tracer une courbe pour des valeurs d'entrée de glucose comprise entre 0 et 1000 par pas de 10)\n",
    "3. Clostridium est connu pour métaboliser le CO2. On suppose que la seule source de CO2 disponible pour Clostridium provient de ce qui est expiré par e. coli. Etudier ce que l'effet de la disponibilité de glucose pour e. coli implique pour la croissance de Clostridium. (tracer une courbe pour des valeurs d'entrée de glucose comprise entre 0 et 1000 par pas de 10)"
   ]
  },
  {
   "cell_type": "code",
   "execution_count": null,
   "metadata": {},
   "outputs": [],
   "source": []
  }
 ],
 "metadata": {
  "kernelspec": {
   "display_name": "Python 3",
   "language": "python",
   "name": "python3"
  },
  "language_info": {
   "codemirror_mode": {
    "name": "ipython",
    "version": 3
   },
   "file_extension": ".py",
   "mimetype": "text/x-python",
   "name": "python",
   "nbconvert_exporter": "python",
   "pygments_lexer": "ipython3",
   "version": "3.7.3"
  }
 },
 "nbformat": 4,
 "nbformat_minor": 2
}
